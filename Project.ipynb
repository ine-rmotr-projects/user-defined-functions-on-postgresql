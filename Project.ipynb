{
 "cells": [
  {
   "cell_type": "markdown",
   "metadata": {},
   "source": [
    "![ine-divider](https://user-images.githubusercontent.com/7065401/92672068-398e8080-f2ee-11ea-82d6-ad53f7feb5c0.png)\n",
    "<hr>\n",
    "\n",
    "# PostgreSQL for Python Developers\n",
    "\n",
    "## User-defined functions on PostgreSQL\n",
    "\n",
    "In this project, you will enhance PostgreSQL to perform operations not available by default in queries.\n",
    "\n",
    "You will need access to a PostgreSQL installation where you have superuser permissions. If you do not have such access elsewhere, installing to your personal workstation is a good idea.  Alternately, you might wish to use a Docker container for a self-contained installation.  See `https://hub.docker.com/_/postgres` for details on that option.  Unless you have a specific need to work with an existing installation, choosing a PostgreSQL version of 12 or higher is best.\n",
    "\n",
    "![orange-divider](https://user-images.githubusercontent.com/7065401/92672455-187a5f80-f2ef-11ea-890c-40be9474f7b7.png)"
   ]
  },
  {
   "cell_type": "markdown",
   "metadata": {},
   "source": [
    "## Part 1\n",
    "\n",
    "**Calculating geometric mean**\n",
    "\n",
    "In this task, we will continue to use the airline tweets table that has been used in previous projects."
   ]
  },
  {
   "cell_type": "code",
   "execution_count": 1,
   "metadata": {},
   "outputs": [],
   "source": [
    "import pandas as pd\n",
    "import psycopg2\n",
    "cred = dict(user='ine_student', password='ine-password', database='ine', host='localhost')\n",
    "conn = psycopg2.connect(**cred)\n",
    "cur = conn.cursor()"
   ]
  },
  {
   "cell_type": "markdown",
   "metadata": {},
   "source": [
    "Sometimes we with to perform queries that describe aggregations of the data.  For example:"
   ]
  },
  {
   "cell_type": "code",
   "execution_count": 2,
   "metadata": {},
   "outputs": [
    {
     "data": {
      "text/html": [
       "<div>\n",
       "<style scoped>\n",
       "    .dataframe tbody tr th:only-of-type {\n",
       "        vertical-align: middle;\n",
       "    }\n",
       "\n",
       "    .dataframe tbody tr th {\n",
       "        vertical-align: top;\n",
       "    }\n",
       "\n",
       "    .dataframe thead th {\n",
       "        text-align: right;\n",
       "    }\n",
       "</style>\n",
       "<table border=\"1\" class=\"dataframe\">\n",
       "  <thead>\n",
       "    <tr style=\"text-align: right;\">\n",
       "      <th></th>\n",
       "      <th>airline</th>\n",
       "      <th>avg_sentiment_conf</th>\n",
       "      <th>avg_neg_conf</th>\n",
       "    </tr>\n",
       "  </thead>\n",
       "  <tbody>\n",
       "    <tr>\n",
       "      <th>0</th>\n",
       "      <td>Virgin America</td>\n",
       "      <td>0.838760</td>\n",
       "      <td>0.556985</td>\n",
       "    </tr>\n",
       "    <tr>\n",
       "      <th>1</th>\n",
       "      <td>Southwest</td>\n",
       "      <td>0.867695</td>\n",
       "      <td>0.601508</td>\n",
       "    </tr>\n",
       "    <tr>\n",
       "      <th>2</th>\n",
       "      <td>Delta</td>\n",
       "      <td>0.847048</td>\n",
       "      <td>0.573097</td>\n",
       "    </tr>\n",
       "    <tr>\n",
       "      <th>3</th>\n",
       "      <td>American</td>\n",
       "      <td>0.912919</td>\n",
       "      <td>0.665752</td>\n",
       "    </tr>\n",
       "    <tr>\n",
       "      <th>4</th>\n",
       "      <td>US Airways</td>\n",
       "      <td>0.919169</td>\n",
       "      <td>0.687172</td>\n",
       "    </tr>\n",
       "    <tr>\n",
       "      <th>5</th>\n",
       "      <td>United</td>\n",
       "      <td>0.896252</td>\n",
       "      <td>0.627285</td>\n",
       "    </tr>\n",
       "  </tbody>\n",
       "</table>\n",
       "</div>"
      ],
      "text/plain": [
       "          airline  avg_sentiment_conf  avg_neg_conf\n",
       "0  Virgin America            0.838760      0.556985\n",
       "1       Southwest            0.867695      0.601508\n",
       "2           Delta            0.847048      0.573097\n",
       "3        American            0.912919      0.665752\n",
       "4      US Airways            0.919169      0.687172\n",
       "5          United            0.896252      0.627285"
      ]
     },
     "execution_count": 2,
     "metadata": {},
     "output_type": "execute_result"
    }
   ],
   "source": [
    "sql = \"\"\"\n",
    "SELECT airline, avg(airline_sentiment_confidence), avg(negativereason_confidence)\n",
    "FROM tweets\n",
    "GROUP BY airline;\n",
    "\"\"\"\n",
    "cur.execute(sql)\n",
    "pd.DataFrame(cur.fetchall(), columns=['airline', 'avg_sentiment_conf', 'avg_neg_conf'])"
   ]
  },
  {
   "cell_type": "markdown",
   "metadata": {},
   "source": [
    "For this task, you would like to make a similar report, but using geometric mean rather than arithmetic mean.  Since PostgreSQL does not include a function for geometric mean in a default installation, you will have to create one.  In the PosgreSQL documentation, there is discussion of aggregations beyond what is provided in the lesson itself. See:\n",
    "\n",
    "> https://www.postgresql.org/docs/current/xaggr.html\n",
    "\n",
    "As well, you may wish to think about the Python `statistics` module for an implementation of geometric mean:\n",
    "\n",
    "> https://docs.python.org/3/library/statistics.html"
   ]
  },
  {
   "cell_type": "code",
   "execution_count": 1,
   "metadata": {},
   "outputs": [],
   "source": [
    "# your code goes here\n"
   ]
  },
  {
   "cell_type": "markdown",
   "metadata": {},
   "source": [
    "![orange-divider](https://user-images.githubusercontent.com/7065401/92672455-187a5f80-f2ef-11ea-890c-40be9474f7b7.png)"
   ]
  },
  {
   "cell_type": "markdown",
   "metadata": {},
   "source": [
    "## Part 2\n",
    "\n",
    "**Create a view into averages**\n",
    "\n",
    "For this task, we suppose that users frequently wish to see the average confidence about sentiment about airlines.  The would like to be able to query both geometric and arithmetic means as if they are simple columns.  E.g.\n",
    "\n",
    "```\n",
    "ine=# SELECT * FROM airline_confidences\n",
    "\n",
    " airline        |  gm_conf | gm_neg_conf | avg_conf | avg_neg_conf\n",
    "----------------+----------+-------------+----------+-------------\n",
    " Virgin America | 0.885061 | 0.675881    | 0.901733 | 0.717003\n",
    " Southwest      | 0.905992 | 0.688806    | 0.920533 | 0.732866\n",
    " Delta          | 0.883982 | 0.66428     | 0.902202 | 0.71052 \n",
    " American       | 0.934933 | 0.700478    | 0.945037 | 0.744327\n",
    " US Airways     | 0.935062 | 0.70556     | 0.945714 | 0.750028\n",
    " United         | 0.920436 | 0.668733    | 0.933383 | 0.714719\n",
    "```"
   ]
  },
  {
   "cell_type": "code",
   "execution_count": 2,
   "metadata": {},
   "outputs": [],
   "source": [
    "# your code goes here\n"
   ]
  },
  {
   "cell_type": "markdown",
   "metadata": {},
   "source": [
    "![orange-divider](https://user-images.githubusercontent.com/7065401/92672455-187a5f80-f2ef-11ea-890c-40be9474f7b7.png)"
   ]
  }
 ],
 "metadata": {
  "kernelspec": {
   "display_name": "Python 3",
   "language": "python",
   "name": "python3"
  },
  "language_info": {
   "codemirror_mode": {
    "name": "ipython",
    "version": 3
   },
   "file_extension": ".py",
   "mimetype": "text/x-python",
   "name": "python",
   "nbconvert_exporter": "python",
   "pygments_lexer": "ipython3",
   "version": "3.8.6"
  }
 },
 "nbformat": 4,
 "nbformat_minor": 4
}
